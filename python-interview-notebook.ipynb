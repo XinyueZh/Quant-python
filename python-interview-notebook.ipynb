{
 "cells": [
  {
   "cell_type": "markdown",
   "metadata": {},
   "source": [
    "### 1.1\n",
    "What is the value of $\\sqrt{2}^{\\sqrt{2}^{{\\sqrt{2}^{...}}}}$?"
   ]
  },
  {
   "cell_type": "code",
   "execution_count": 48,
   "metadata": {},
   "outputs": [
    {
     "name": "stdout",
     "output_type": "stream",
     "text": [
      "2.0000000000000004\n"
     ]
    }
   ],
   "source": [
    "import math\n",
    "exponent = 1\n",
    "for n in range(0, 100):\n",
    "    exponent = math.sqrt(2)**exponent ## Pay attention to this!\n",
    "print(exponent)\n",
    "\n",
    "##2"
   ]
  },
  {
   "cell_type": "markdown",
   "metadata": {},
   "source": [
    "### 3.1\n",
    "You have a bag with two coins. One will come up heads 40% of the time, and the other will come up heads 60%. You pick a coin randomly, flip it and get a head. What is the probability it will be heads on the next flip?"
   ]
  },
  {
   "cell_type": "code",
   "execution_count": 49,
   "metadata": {},
   "outputs": [
    {
     "name": "stdout",
     "output_type": "stream",
     "text": [
      "Coin with p =0.6\n"
     ]
    },
    {
     "data": {
      "text/plain": [
       "0.502"
      ]
     },
     "execution_count": 49,
     "metadata": {},
     "output_type": "execute_result"
    }
   ],
   "source": [
    "import random\n",
    "class Coin(object):  ## Create a class\n",
    "    def __init__(self, p):\n",
    "        self.prob = p\n",
    "        \n",
    "    def flip_is_head(self):  ## Boolean\n",
    "        return random.random() < self.prob\n",
    "    \n",
    "    def __repr__(self):  ## An easier way to represent\n",
    "        return 'Coin with p =' +str(self.prob)\n",
    "\n",
    "class Bag_of_coins(object):\n",
    "    def __init__(self):\n",
    "        self.coins = []  ## So self.prob & self.coins don't truly matter.\n",
    "        \n",
    "    def add_coins(self, coin):\n",
    "        self.coins.append(coin)\n",
    "        \n",
    "    def pick_random_coin(self):\n",
    "        return random.choice(self.coins)\n",
    "        \n",
    "x = Coin(0.6)\n",
    "x.__repr__()\n",
    "print(x)\n",
    "bag = Bag_of_coins()\n",
    "bag.add_coins(Coin(0.4))\n",
    "bag.add_coins(Coin(0.6))\n",
    "\n",
    "\n",
    "num_trials = 1000\n",
    "trial_ctr =0\n",
    "head_ctr = 0\n",
    "while trial_ctr < num_trials:\n",
    "    coin = bag.pick_random_coin()\n",
    "    if coin.flip_is_head():\n",
    "        trial_ctr +=1\n",
    "        if coin.flip_is_head():\n",
    "            head_ctr +=1\n",
    "head_ctr/trial_ctr\n",
    "\n",
    "## ????We get the answer 0.5???"
   ]
  },
  {
   "cell_type": "markdown",
   "metadata": {},
   "source": [
    "### 3.5\n",
    "Starting at one vertex of a cube, and moving randomly from vertex to adjacent vertices, what is the expected number of moves until you reach the  vertex opposite from your starting point?"
   ]
  },
  {
   "cell_type": "code",
   "execution_count": 52,
   "metadata": {},
   "outputs": [
    {
     "data": {
      "text/plain": [
       "{3: 2194,\n",
       " 5: 1672,\n",
       " 7: 1379,\n",
       " 9: 1109,\n",
       " 11: 803,\n",
       " 13: 652,\n",
       " 15: 504,\n",
       " 17: 355,\n",
       " 19: 298,\n",
       " 21: 244,\n",
       " 23: 174,\n",
       " 25: 140,\n",
       " 27: 118,\n",
       " 29: 68,\n",
       " 31: 67,\n",
       " 33: 46,\n",
       " 35: 41,\n",
       " 37: 22,\n",
       " 39: 26,\n",
       " 41: 24,\n",
       " 43: 19,\n",
       " 45: 10,\n",
       " 47: 7,\n",
       " 49: 6,\n",
       " 51: 3,\n",
       " 53: 4,\n",
       " 55: 5,\n",
       " 57: 2,\n",
       " 59: 2,\n",
       " 63: 1,\n",
       " 65: 1,\n",
       " 69: 1,\n",
       " 75: 1,\n",
       " 83: 1,\n",
       " 87: 1}"
      ]
     },
     "execution_count": 52,
     "metadata": {},
     "output_type": "execute_result"
    }
   ],
   "source": [
    "from random import randint\n",
    "\n",
    "def sumWorkaround(vertex):\n",
    "    sum_ = 0\n",
    "    for coordinate in vertex:\n",
    "        sum_ += coordinate\n",
    "    return sum_\n",
    "\n",
    "def number_of_moves(dimension):\n",
    "    # return the number of moves needed for\n",
    "    # As it's a cube, dimension = 3\n",
    "    move_count = 0\n",
    "    vertex = [0] * dimension\n",
    "    while sum(vertex) < dimension:\n",
    "        axis_choice = randint(0, dimension - 1)   ###################???随便选一个点？\n",
    "#         if vertex(axis_choice) == 0:\n",
    "#             vertex(axis_choice) == 1\n",
    "#         else:\n",
    "#             vertex(axis_choice) == 0\n",
    "        vertex[axis_choice] = 1 - vertex[axis_choice]\n",
    "        move_count += 1\n",
    "    return move_count\n",
    "\n",
    "number_of_trials = 10000\n",
    "trials = [number_of_moves(3) for i in range(number_of_trials)]\n",
    "# initialize dictionary to count frequency of number of moves\n",
    "number_moves_count = {trial:0 for trial in trials}\n",
    "for trial in trials:\n",
    "    number_moves_count[trial] += 1    \n",
    "number_moves_count\n",
    "\n",
    "####################################### 众数？ 平均数？"
   ]
  },
  {
   "cell_type": "markdown",
   "metadata": {},
   "source": [
    "### 3.8\n",
    "You have a spinner that generates random numbers that are uniform between 0 and 1. You sum the spins until the sum is greater than one. What is the expected number of spins?"
   ]
  },
  {
   "cell_type": "code",
   "execution_count": 4,
   "metadata": {},
   "outputs": [
    {
     "data": {
      "text/plain": [
       "2.2000000000000002"
      ]
     },
     "execution_count": 4,
     "metadata": {},
     "output_type": "execute_result"
    }
   ],
   "source": [
    "# Method I\n",
    "\n",
    "#%pylab inline\n",
    "import random\n",
    "import numpy\n",
    "#import matplotlib.pyplot as pit\n",
    "\n",
    "num_trials = 10\n",
    "trials = []\n",
    "\n",
    "def simulate_number_of_spins_to_exceed_one():\n",
    "    sum_ = 0\n",
    "    count = 0\n",
    "    while sum_ <= 1:\n",
    "        sum_ += random.random()\n",
    "        count += 1\n",
    "    return count\n",
    "\n",
    "trials=[simulate_number_of_spins_to_exceed_one() for _ in range(num_trials)]\n",
    "# trials\n",
    "\n",
    "## What's the later two sentences for?\n",
    "#num_bins = np.max(trials) - np.min(trials) + 1\n",
    "#pit.hist(trials.bins=num_bins, normed=True, aliqn=\"left\", rwidth=0.3, range=(2,2+num_bin))\n",
    "numpy.mean(trials)\n",
    "# end up with a list of the number of spins on each trial\n",
    "\n",
    "# The answer should be around e."
   ]
  },
  {
   "cell_type": "code",
   "execution_count": 11,
   "metadata": {},
   "outputs": [
    {
     "name": "stdout",
     "output_type": "stream",
     "text": [
      "[3, 2, 2, 2, 2, 2, 3, 3, 3, 4, 3, 2, 4, 2, 3, 2, 2, 2, 2, 4, 2, 3, 2, 2, 4, 3, 2, 5, 2, 2, 2, 2, 3, 2, 2, 4, 3, 2, 4, 2, 2, 2, 2, 4, 5, 3, 2, 2, 2, 3, 2, 3, 3, 2, 2, 2, 4, 2, 3, 5, 2, 2, 2, 5, 3, 4, 4, 2, 3, 3, 2, 3, 3, 3, 3, 2, 2, 4, 3, 2, 2, 4, 5, 3, 2, 2, 2, 2, 2, 3, 2, 2, 2, 4, 2, 3, 3, 3, 2, 2, 2, 4, 2, 4, 2, 3, 3, 2, 2, 2, 5, 3, 3, 3, 3, 2, 2, 2, 2, 2, 4, 3, 2, 2, 4, 2, 3, 3, 2, 2, 4, 3, 3, 4, 3, 2, 2, 4, 3, 3, 2, 2, 3, 3, 2, 2, 2, 2, 3, 2, 2, 4, 2, 2, 3, 2, 3, 3, 6, 3, 2, 2, 2, 3, 3, 4, 2, 2, 2, 2, 5, 3, 2, 2, 5, 3, 3, 3, 5, 2, 2, 3, 5, 2, 2, 6, 2, 3, 3, 3, 3, 3, 2, 3, 3, 3, 2, 2, 3, 2, 2, 2, 6, 2, 3, 3, 2, 2, 5, 2, 2, 2, 3, 3, 3, 3, 4, 2, 2, 3, 2, 3, 2, 4, 3, 2, 4, 2, 4, 4, 2, 3, 3, 2, 4, 3, 2, 4, 2, 2, 3, 2, 2, 2, 2, 2, 2, 2, 2, 4, 2, 3, 4, 5, 3, 2, 2, 2, 3, 3, 2, 3, 4, 2, 3, 2, 3, 2, 2, 2, 4, 2, 2, 5, 3, 2, 2, 3, 2, 3, 3, 2, 2, 3, 3, 4, 3, 2, 4, 3, 2, 3, 5, 2, 4, 2, 2, 3, 2, 2, 2, 2, 3, 2, 2, 3, 3, 3, 2, 2, 3, 3, 2, 2, 3, 2, 2, 3, 3, 2, 3, 5, 4, 3, 2, 3, 3, 5, 3, 4, 2, 4, 3, 2, 2, 3, 3, 4, 2, 2, 5, 3, 3, 2, 3, 2, 2, 4, 2, 4, 4, 2, 2, 3, 2, 2, 2, 2, 3, 3, 3, 3, 2, 2, 2]\n"
     ]
    },
    {
     "data": {
      "text/plain": [
       "2.7369863013698632"
      ]
     },
     "execution_count": 11,
     "metadata": {},
     "output_type": "execute_result"
    }
   ],
   "source": [
    "# Method II\n",
    "\n",
    "import random\n",
    "import numpy\n",
    "\n",
    "c=0\n",
    "num_trials = 1000\n",
    "trials = []\n",
    "i = 1\n",
    "for _ in range(num_trials):  ## What does this mean?\n",
    "    x = random.uniform(0,1)\n",
    "    c += x\n",
    "    if c > 1:\n",
    "        trials.append(i)  ## Pay attention to this!\n",
    "        i=1\n",
    "        c=0\n",
    "    else:\n",
    "        i+=1\n",
    "print(trials)\n",
    "numpy.mean(trials)\n"
   ]
  },
  {
   "cell_type": "markdown",
   "metadata": {},
   "source": [
    "### 3.10\n",
    "A stick is broken randomly into 3 pieces. What is the probability of the pieces being able to form a triangle?"
   ]
  },
  {
   "cell_type": "code",
   "execution_count": 1,
<<<<<<< HEAD
   "metadata": {
    "collapsed": true
   },
=======
   "metadata": {},
>>>>>>> 78ca6212bf11faa7528851a2dcb2d00b44c89981
   "outputs": [],
   "source": []
  },
  {
   "cell_type": "markdown",
   "metadata": {},
   "source": [
    "### 3.11\n",
    "A stick is broken randomly into two pieces. The larger piece is then broken randomly into two pieces. What is the probability of the pieces being able to form a triangle?"
   ]
  },
  {
   "cell_type": "code",
   "execution_count": null,
   "metadata": {
    "collapsed": true
   },
   "outputs": [],
   "source": []
  },
  {
   "cell_type": "markdown",
   "metadata": {},
   "source": [
<<<<<<< HEAD
    "# 3.13"
   ]
  },
  {
   "cell_type": "code",
   "execution_count": 6,
   "metadata": {},
   "outputs": [
    {
     "name": "stdout",
     "output_type": "stream",
     "text": [
      "Populating the interactive namespace from numpy and matplotlib\n"
     ]
    },
    {
     "data": {
      "text/plain": [
       "2.0699999999999998"
      ]
     },
     "execution_count": 6,
     "metadata": {},
     "output_type": "execute_result"
    },
    {
     "data": {
      "image/png": "iVBORw0KGgoAAAANSUhEUgAAAXcAAAD8CAYAAACMwORRAAAABHNCSVQICAgIfAhkiAAAAAlwSFlz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\nAElFTkSuQmCC\n",
      "text/plain": [
       "<matplotlib.figure.Figure at 0x7f00630>"
      ]
     },
     "metadata": {},
     "output_type": "display_data"
    }
   ],
   "source": [
    "%pylab inline\n",
    "import numpy as np\n",
    "import matplotlib.pyplot as pit\n",
    "\n",
    "class TwoDiceGame(object):\n",
    "    def play(self):\n",
    "        winnings = 0\n",
    "        two_of_same_seen = False\n",
    "        while True: # An always true sentence; as it can return something later, here we just need it to start loop\n",
    "            #  two_of_same = np.random.randint(2) == 1\n",
    "            if two_of_same_seen:\n",
    "                if winnings>=3:\n",
    "                    #out strategy; quit if we have 3+ in this gase\n",
    "                    return winnings\n",
    "                if np.random.randint(4) == 0:\n",
    "                    #bad luck; both HH and TT een, lost it all\n",
    "                    return 0\n",
    "            else:\n",
    "               # two_of_same_seen=two_of_same\n",
    "                two_of_same_seen = np.random.randint(2) == 0\n",
    "            winnings+=1\n",
    "#             if two_of_same_seen and winnings>=3:\n",
    "#                 return winnings\n",
    "            \n",
    "# game=TwoDiceGame()\n",
    "# game.play()\n",
    "        \n",
    "game = TwoDiceGame()\n",
    "num_trials=100\n",
    "trials=[game.play() for _ in range(num_trials)]\n",
    "num_bins= np.max(trials)-np.min(trials)+1\n",
    "plt.hist(trials, bins=num_bins, normed= True, align='left',rwidth=0.3, range=(0,num_bins))\n",
    "\n",
    "\n",
    "np.mean(trials)\n",
    "\n",
    "        "
   ]
  },
  {
   "cell_type": "markdown",
   "metadata": {},
   "source": [
=======
>>>>>>> 78ca6212bf11faa7528851a2dcb2d00b44c89981
    "### 5.2\n",
    "You have a basket of $n$ assets. The asset returns are multivariate normal with zero mean. Correlation between any pair of assets is 1/2. What is the probability that $k$ of the assets will have positive return?"
   ]
  },
  {
   "cell_type": "code",
   "execution_count": null,
   "metadata": {
    "collapsed": true
   },
   "outputs": [],
   "source": []
  }
 ],
 "metadata": {
  "kernelspec": {
   "display_name": "Python 3",
   "language": "python",
   "name": "python3"
  },
  "language_info": {
   "codemirror_mode": {
    "name": "ipython",
    "version": 3
   },
   "file_extension": ".py",
   "mimetype": "text/x-python",
   "name": "python",
   "nbconvert_exporter": "python",
   "pygments_lexer": "ipython3",
   "version": "3.6.1"
  }
 },
 "nbformat": 4,
 "nbformat_minor": 1
}
