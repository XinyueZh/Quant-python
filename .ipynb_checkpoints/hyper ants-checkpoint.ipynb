{
 "cells": [
  {
   "cell_type": "markdown",
   "metadata": {},
   "source": [
    "# Hyper-ants: ants traveling in hyperspace\n",
    "An ant is at the origin in n-dimensional Euclidean space, and is about to taraverse the edges of a hypercube with sides of unit length. At each vertex, the ant randomly chooses an edge, and moves to the next vertex. On average, how far will the ant travel until it reaches (1, 1, ... 1)?"
   ]
  },
  {
   "cell_type": "code",
   "execution_count": 7,
   "metadata": {},
   "outputs": [
    {
     "data": {
      "text/plain": [
       "{3: 2279,\n",
       " 5: 1686,\n",
       " 7: 1349,\n",
       " 9: 1045,\n",
       " 11: 832,\n",
       " 13: 567,\n",
       " 15: 520,\n",
       " 17: 385,\n",
       " 19: 297,\n",
       " 21: 241,\n",
       " 23: 188,\n",
       " 25: 141,\n",
       " 27: 106,\n",
       " 29: 71,\n",
       " 31: 70,\n",
       " 33: 46,\n",
       " 35: 45,\n",
       " 37: 23,\n",
       " 39: 31,\n",
       " 41: 22,\n",
       " 43: 8,\n",
       " 45: 10,\n",
       " 47: 4,\n",
       " 49: 7,\n",
       " 51: 7,\n",
       " 53: 9,\n",
       " 55: 3,\n",
       " 59: 4,\n",
       " 61: 2,\n",
       " 63: 1,\n",
       " 65: 1}"
      ]
     },
     "execution_count": 7,
     "metadata": {},
     "output_type": "execute_result"
    }
   ],
   "source": [
    "from random import randint\n",
    "\n",
    "def sumWorkaround(vertex):\n",
    "    sum_ = 0\n",
    "    for coordinate in vertex:\n",
    "        sum_ += coordinate\n",
    "    return sum_\n",
    "\n",
    "def number_of_moves(dimension):\n",
    "    # return the number of moves needed for\n",
    "    # one simulated trip by the ant\n",
    "    move_count = 0\n",
    "    vertex = [0] * dimension\n",
    "    while sum(vertex) < dimension:\n",
    "        axis_choice = randint(0, dimension - 1)\n",
    "#         if vertex(axis_choice) == 0:\n",
    "#             vertex(axis_choice) == 1\n",
    "#         else:\n",
    "#             vertex(axis_choice) == 0\n",
    "        vertex[axis_choice] = 1 - vertex[axis_choice]\n",
    "        move_count += 1\n",
    "    return move_count\n",
    "\n",
    "number_of_trials = 10000\n",
    "trials = [number_of_moves(3) for i in range(number_of_trials)]\n",
    "# initialize dictionary to count frequency of number of moves\n",
    "number_moves_count = {trial:0 for trial in trials}\n",
    "for trial in trials:\n",
    "    number_moves_count[trial] += 1    \n",
    "number_moves_count\n",
    "\n",
    "# 众数？ 平均数？"
   ]
  },
  {
   "cell_type": "code",
   "execution_count": null,
   "metadata": {
    "collapsed": true
   },
   "outputs": [],
   "source": []
  }
 ],
 "metadata": {
  "kernelspec": {
   "display_name": "Python 3",
   "language": "python",
   "name": "python3"
  },
  "language_info": {
   "codemirror_mode": {
    "name": "ipython",
    "version": 3
   },
   "file_extension": ".py",
   "mimetype": "text/x-python",
   "name": "python",
   "nbconvert_exporter": "python",
   "pygments_lexer": "ipython3",
   "version": "3.6.1"
  }
 },
 "nbformat": 4,
 "nbformat_minor": 2
}
