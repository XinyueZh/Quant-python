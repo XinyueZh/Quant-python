{
 "cells": [
  {
   "cell_type": "markdown",
   "metadata": {},
   "source": [
    "### 1.1\n",
    "What is the value of $\\sqrt{2}^{\\sqrt{2}^{{\\sqrt{2}^{...}}}}$?"
   ]
  },
  {
   "cell_type": "code",
   "execution_count": 48,
   "metadata": {},
   "outputs": [
    {
     "name": "stdout",
     "output_type": "stream",
     "text": [
      "2.0000000000000004\n"
     ]
    }
   ],
   "source": [
    "import math\n",
    "exponent = 1\n",
    "for n in range(0, 100):\n",
    "    exponent = math.sqrt(2)**exponent ## Pay attention to this!\n",
    "print(exponent)\n",
    "\n",
    "##2"
   ]
  },
  {
   "cell_type": "markdown",
   "metadata": {},
   "source": [
    "### 3.1\n",
    "You have a bag with two coins. One will come up heads 40% of the time, and the other will come up heads 60%. You pick a coin randomly, flip it and get a head. What is the probability it will be heads on the next flip?"
   ]
  },
  {
   "cell_type": "code",
   "execution_count": 49,
   "metadata": {},
   "outputs": [
    {
     "name": "stdout",
     "output_type": "stream",
     "text": [
      "Coin with p =0.6\n"
     ]
    },
    {
     "data": {
      "text/plain": [
       "0.502"
      ]
     },
     "execution_count": 49,
     "metadata": {},
     "output_type": "execute_result"
    }
   ],
   "source": [
    "import random\n",
    "class Coin(object):  ## Create a class\n",
    "    def __init__(self, p):\n",
    "        self.prob = p\n",
    "        \n",
    "    def flip_is_head(self):  ## Boolean\n",
    "        return random.random() < self.prob\n",
    "    \n",
    "    def __repr__(self):  ## An easier way to represent\n",
    "        return 'Coin with p =' +str(self.prob)\n",
    "\n",
    "class Bag_of_coins(object):\n",
    "    def __init__(self):\n",
    "        self.coins = []  ## So self.prob & self.coins don't truly matter.\n",
    "        \n",
    "    def add_coins(self, coin):\n",
    "        self.coins.append(coin)\n",
    "        \n",
    "    def pick_random_coin(self):\n",
    "        return random.choice(self.coins)\n",
    "        \n",
    "x = Coin(0.6)\n",
    "x.__repr__()\n",
    "print(x)\n",
    "bag = Bag_of_coins()\n",
    "bag.add_coins(Coin(0.4))\n",
    "bag.add_coins(Coin(0.6))\n",
    "\n",
    "\n",
    "num_trials = 1000\n",
    "trial_ctr =0\n",
    "head_ctr = 0\n",
    "while trial_ctr < num_trials:\n",
    "    coin = bag.pick_random_coin()\n",
    "    if coin.flip_is_head():\n",
    "        trial_ctr +=1\n",
    "        if coin.flip_is_head():\n",
    "            head_ctr +=1\n",
    "head_ctr/trial_ctr\n",
    "\n",
    "## ????We get the answer 0.5???"
   ]
  },
  {
   "cell_type": "markdown",
   "metadata": {},
   "source": [
    "### 3.5\n",
    "Starting at one vertex of a cube, and moving randomly from vertex to adjacent vertices, what is the expected number of moves until you reach the  vertex opposite from your starting point?"
   ]
  },
  {
   "cell_type": "code",
   "execution_count": 52,
   "metadata": {},
   "outputs": [
    {
     "data": {
      "text/plain": [
       "{3: 2194,\n",
       " 5: 1672,\n",
       " 7: 1379,\n",
       " 9: 1109,\n",
       " 11: 803,\n",
       " 13: 652,\n",
       " 15: 504,\n",
       " 17: 355,\n",
       " 19: 298,\n",
       " 21: 244,\n",
       " 23: 174,\n",
       " 25: 140,\n",
       " 27: 118,\n",
       " 29: 68,\n",
       " 31: 67,\n",
       " 33: 46,\n",
       " 35: 41,\n",
       " 37: 22,\n",
       " 39: 26,\n",
       " 41: 24,\n",
       " 43: 19,\n",
       " 45: 10,\n",
       " 47: 7,\n",
       " 49: 6,\n",
       " 51: 3,\n",
       " 53: 4,\n",
       " 55: 5,\n",
       " 57: 2,\n",
       " 59: 2,\n",
       " 63: 1,\n",
       " 65: 1,\n",
       " 69: 1,\n",
       " 75: 1,\n",
       " 83: 1,\n",
       " 87: 1}"
      ]
     },
     "execution_count": 52,
     "metadata": {},
     "output_type": "execute_result"
    }
   ],
   "source": [
    "from random import randint\n",
    "\n",
    "def sumWorkaround(vertex):\n",
    "    sum_ = 0\n",
    "    for coordinate in vertex:\n",
    "        sum_ += coordinate\n",
    "    return sum_\n",
    "\n",
    "def number_of_moves(dimension):\n",
    "    # return the number of moves needed for\n",
    "    # As it's a cube, dimension = 3\n",
    "    move_count = 0\n",
    "    vertex = [0] * dimension\n",
    "    while sum(vertex) < dimension:\n",
    "        axis_choice = randint(0, dimension - 1)   ###################???随便选一个点？\n",
    "#         if vertex(axis_choice) == 0:\n",
    "#             vertex(axis_choice) == 1\n",
    "#         else:\n",
    "#             vertex(axis_choice) == 0\n",
    "        vertex[axis_choice] = 1 - vertex[axis_choice]\n",
    "        move_count += 1\n",
    "    return move_count\n",
    "\n",
    "number_of_trials = 10000\n",
    "trials = [number_of_moves(3) for i in range(number_of_trials)]\n",
    "# initialize dictionary to count frequency of number of moves\n",
    "number_moves_count = {trial:0 for trial in trials}\n",
    "for trial in trials:\n",
    "    number_moves_count[trial] += 1    \n",
    "number_moves_count\n",
    "\n",
    "####################################### 众数？ 平均数？"
   ]
  },
  {
   "cell_type": "markdown",
   "metadata": {},
   "source": [
    "### 3.8\n",
    "You have a spinner that generates random numbers that are uniform between 0 and 1. You sum the spins until the sum is greater than one. What is the expected number of spins?"
   ]
  },
  {
   "cell_type": "code",
   "execution_count": 4,
   "metadata": {},
   "outputs": [
    {
     "data": {
      "text/plain": [
       "2.2000000000000002"
      ]
     },
     "execution_count": 4,
     "metadata": {},
     "output_type": "execute_result"
    }
   ],
   "source": [
    "# Method I\n",
    "\n",
    "#%pylab inline\n",
    "import random\n",
    "import numpy\n",
    "#import matplotlib.pyplot as pit\n",
    "\n",
    "num_trials = 10\n",
    "trials = []\n",
    "\n",
    "def simulate_number_of_spins_to_exceed_one():\n",
    "    sum_ = 0\n",
    "    count = 0\n",
    "    while sum_ <= 1:\n",
    "        sum_ += random.random()\n",
    "        count += 1\n",
    "    return count\n",
    "\n",
    "trials=[simulate_number_of_spins_to_exceed_one() for _ in range(num_trials)]\n",
    "# trials\n",
    "\n",
    "## What's the later two sentences for?\n",
    "#num_bins = np.max(trials) - np.min(trials) + 1\n",
    "#pit.hist(trials.bins=num_bins, normed=True, aliqn=\"left\", rwidth=0.3, range=(2,2+num_bin))\n",
    "numpy.mean(trials)\n",
    "# end up with a list of the number of spins on each trial\n",
    "\n",
    "# The answer should be around e."
   ]
  },
  {
   "cell_type": "code",
   "execution_count": 11,
   "metadata": {},
   "outputs": [
    {
     "name": "stdout",
     "output_type": "stream",
     "text": [
      "[3, 2, 2, 2, 2, 2, 3, 3, 3, 4, 3, 2, 4, 2, 3, 2, 2, 2, 2, 4, 2, 3, 2, 2, 4, 3, 2, 5, 2, 2, 2, 2, 3, 2, 2, 4, 3, 2, 4, 2, 2, 2, 2, 4, 5, 3, 2, 2, 2, 3, 2, 3, 3, 2, 2, 2, 4, 2, 3, 5, 2, 2, 2, 5, 3, 4, 4, 2, 3, 3, 2, 3, 3, 3, 3, 2, 2, 4, 3, 2, 2, 4, 5, 3, 2, 2, 2, 2, 2, 3, 2, 2, 2, 4, 2, 3, 3, 3, 2, 2, 2, 4, 2, 4, 2, 3, 3, 2, 2, 2, 5, 3, 3, 3, 3, 2, 2, 2, 2, 2, 4, 3, 2, 2, 4, 2, 3, 3, 2, 2, 4, 3, 3, 4, 3, 2, 2, 4, 3, 3, 2, 2, 3, 3, 2, 2, 2, 2, 3, 2, 2, 4, 2, 2, 3, 2, 3, 3, 6, 3, 2, 2, 2, 3, 3, 4, 2, 2, 2, 2, 5, 3, 2, 2, 5, 3, 3, 3, 5, 2, 2, 3, 5, 2, 2, 6, 2, 3, 3, 3, 3, 3, 2, 3, 3, 3, 2, 2, 3, 2, 2, 2, 6, 2, 3, 3, 2, 2, 5, 2, 2, 2, 3, 3, 3, 3, 4, 2, 2, 3, 2, 3, 2, 4, 3, 2, 4, 2, 4, 4, 2, 3, 3, 2, 4, 3, 2, 4, 2, 2, 3, 2, 2, 2, 2, 2, 2, 2, 2, 4, 2, 3, 4, 5, 3, 2, 2, 2, 3, 3, 2, 3, 4, 2, 3, 2, 3, 2, 2, 2, 4, 2, 2, 5, 3, 2, 2, 3, 2, 3, 3, 2, 2, 3, 3, 4, 3, 2, 4, 3, 2, 3, 5, 2, 4, 2, 2, 3, 2, 2, 2, 2, 3, 2, 2, 3, 3, 3, 2, 2, 3, 3, 2, 2, 3, 2, 2, 3, 3, 2, 3, 5, 4, 3, 2, 3, 3, 5, 3, 4, 2, 4, 3, 2, 2, 3, 3, 4, 2, 2, 5, 3, 3, 2, 3, 2, 2, 4, 2, 4, 4, 2, 2, 3, 2, 2, 2, 2, 3, 3, 3, 3, 2, 2, 2]\n"
     ]
    },
    {
     "data": {
      "text/plain": [
       "2.7369863013698632"
      ]
     },
     "execution_count": 11,
     "metadata": {},
     "output_type": "execute_result"
    }
   ],
   "source": [
    "# Method II\n",
    "\n",
    "import random\n",
    "import numpy\n",
    "\n",
    "c=0\n",
    "num_trials = 1000\n",
    "trials = []\n",
    "i = 1\n",
    "for _ in range(num_trials):  ## What does this mean?\n",
    "    x = random.uniform(0,1)\n",
    "    c += x\n",
    "    if c > 1:\n",
    "        trials.append(i)  ## Pay attention to this!\n",
    "        i=1\n",
    "        c=0\n",
    "    else:\n",
    "        i+=1\n",
    "print(trials)\n",
    "numpy.mean(trials)\n"
   ]
  },
  {
   "cell_type": "markdown",
   "metadata": {},
   "source": [
    "### 3.10\n",
    "A stick is broken randomly into 3 pieces. What is the probability of the pieces being able to form a triangle?"
   ]
  },
  {
   "cell_type": "code",
   "execution_count": 1,
   "metadata": {
    "collapsed": true
   },
   "outputs": [],
   "source": []
  },
  {
   "cell_type": "markdown",
   "metadata": {},
   "source": [
    "### 3.11\n",
    "A stick is broken randomly into two pieces. The larger piece is then broken randomly into two pieces. What is the probability of the pieces being able to form a triangle?"
   ]
  },
  {
   "cell_type": "code",
   "execution_count": null,
   "metadata": {
    "collapsed": true
   },
   "outputs": [],
   "source": []
  },
  {
   "cell_type": "markdown",
   "metadata": {},
   "source": [
    "# 3.13\n",
    "This is based on a Goldman Sachs interview question. You play a game where you toss two fair coins in the air. You always win $1. However, if you have tossed 2 heads at least once, and 2 tails at least once, you surrender all winnings, and cannot play again. You may stop playing at anytime. What’s your strategy?"
   ]
  },
  {
   "cell_type": "code",
   "execution_count": 1,
   "metadata": {},
   "outputs": [
    {
     "name": "stdout",
     "output_type": "stream",
     "text": [
      "Populating the interactive namespace from numpy and matplotlib\n"
     ]
    },
    {
     "data": {
      "text/plain": [
       "2.411"
      ]
     },
     "execution_count": 1,
     "metadata": {},
     "output_type": "execute_result"
    },
    {
     "data": {
      "image/png": "[encoded data removed]",
      "text/plain": [
       "<matplotlib.figure.Figure at 0x4d8ef98>"
      ]
     },
     "metadata": {},
     "output_type": "display_data"
    }
   ],
   "source": [
    "%pylab inline\n",
    "import numpy as np\n",
    "import matplotlib.pyplot as plt\n",
    "\n",
    "class TwoDiceGame(object):\n",
    "    def play(self):\n",
    "        winnings = 0\n",
    "        two_of_same_seen = False\n",
    "        while True: ## It can be any true sentence.\n",
    "            if two_of_same_seen:\n",
    "                if winnings >= 3:\n",
    "                    # our strategy: quit if we have 3+ in this case \n",
    "                    return winnings\n",
    "                if np.random.randint(4) == 0:\n",
    "                    # bad luck: both HH and TT seen, lost it all\n",
    "                    return 0\n",
    "            else:\n",
    "                two_of_same_seen = np.random.randint(2) == 0\n",
    "            winnings += 1\n",
    "    \n",
    "game = TwoDiceGame()\n",
    "num_trials = 10000\n",
    "trials = [game.play() for _ in range(num_trials)]\n",
    "num_bins = np.max(trials) - np.min(trials) + 1\n",
    "plt.hist(trials, bins = num_bins, normed = True, \n",
    "         align = 'left', rwidth=0.3, range = (0, num_bins))\n",
    "\n",
    "np.mean(trials)"
   ]
  },
  {
   "cell_type": "markdown",
   "metadata": {},
   "source": [
    "### 5.2\n",
    "You have a basket of $n$ assets. The asset returns are multivariate normal with zero mean. Correlation between any pair of assets is 1/2. What is the probability that $k$ of the assets will have positive return?"
   ]
  },
  {
   "cell_type": "code",
   "execution_count": null,
   "metadata": {
    "collapsed": true
   },
   "outputs": [],
   "source": []
  }
 ],
 "metadata": {
  "kernelspec": {
   "display_name": "Python 3",
   "language": "python",
   "name": "python3"
  },
  "language_info": {
   "codemirror_mode": {
    "name": "ipython",
    "version": 3
   },
   "file_extension": ".py",
   "mimetype": "text/x-python",
   "name": "python",
   "nbconvert_exporter": "python",
   "pygments_lexer": "ipython3",
   "version": "3.6.1"
  }
 },
 "nbformat": 4,
 "nbformat_minor": 1
}
