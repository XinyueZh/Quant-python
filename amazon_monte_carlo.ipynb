{
 "cells": [
  {
   "cell_type": "markdown",
   "metadata": {},
   "source": [
    "# Simulate Amazon stock prices\n",
    "Using historical data from Yahoo for 2014-10-01 to 2016-09-30, we computed historical returns in a Google sheet and now we will do a Monte Carlo simulation using the standard deviation of returns."
   ]
  },
  {
   "cell_type": "code",
   "execution_count": 2,
   "metadata": {},
   "outputs": [
    {
     "name": "stdout",
     "output_type": "stream",
     "text": [
      "Populating the interactive namespace from numpy and matplotlib\n"
     ]
    },
    {
     "data": {
      "text/plain": [
       "172.77026860947734"
      ]
     },
     "execution_count": 2,
     "metadata": {},
     "output_type": "execute_result"
    }
   ],
   "source": [
    "%pylab inline\n",
    "import numpy as np\n",
    "import matplotlib.pyplot as pit\n",
    "\n",
    "current_price = 837.31\n",
    "sigma_one_day = 0.2\n",
    "\n",
    "# for Monte Carlo, we generate random log returns, apply to the current price to find simulated future prices\n",
    "\n",
    "num_trials = 10000\n",
    "mean_daily_return = 0\n",
    "\n",
    "trials = np.random.normal(mean_daily_return, sigma_one_day, num_trials) \n",
    "np.std(trials) ## It should be around 0.2\n",
    "\n",
    "simulated_log_return = np.random.normal(mean_daily_return, sigma_one_day, num_trials) \n",
    "            # Putting names in here can be more understandable\n",
    "simulated_prices = [current_price * np.exp(ret) for ret in simulated_log_return] ## *:times\n",
    "np.std(simulated_prices) ## It should be around 160\n",
    "\n",
    "num_bins= 50\n",
    "price_sigma = np.std(simulated_prices)\n",
    "plt.hist(simulated_prices, bins=num_bins, normed= True, align='left',rwidth=0.3, \n",
    "         range=(current_price-3*price_sigma, current_price+3*price_sigma))\n",
    "## It shows a picture.\n",
    "\n",
    "# Why is this not normal?"
   ]
  },
  {
   "cell_type": "code",
   "execution_count": null,
   "metadata": {
    "collapsed": true
   },
   "outputs": [],
   "source": []
  },
  {
   "cell_type": "code",
   "execution_count": null,
   "metadata": {
    "collapsed": true
   },
   "outputs": [],
   "source": []
  }
 ],
 "metadata": {
  "kernelspec": {
   "display_name": "Python 3",
   "language": "python",
   "name": "python3"
  },
  "language_info": {
   "codemirror_mode": {
    "name": "ipython",
    "version": 3
   },
   "file_extension": ".py",
   "mimetype": "text/x-python",
   "name": "python",
   "nbconvert_exporter": "python",
   "pygments_lexer": "ipython3",
   "version": "3.6.1"
  }
 },
 "nbformat": 4,
 "nbformat_minor": 2
}
