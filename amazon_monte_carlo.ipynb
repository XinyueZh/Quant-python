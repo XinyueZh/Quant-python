{
 "cells": [
  {
   "cell_type": "markdown",
   "metadata": {},
   "source": [
    "# Simulate Amazon stock prices\n",
    "Using historical data from Yahoo for 2014-10-01 to 2016-09-30, we computed historical returns in a Google sheet and now we will do a Monte Carlo simulation using the standard deviation of returns."
   ]
  },
  {
   "cell_type": "code",
   "execution_count": 18,
   "metadata": {},
   "outputs": [
    {
     "name": "stdout",
     "output_type": "stream",
     "text": [
      "Populating the interactive namespace from numpy and matplotlib\n",
      "VaR = 23167.0465788\n",
      "ES = 28360.4512264\n"
     ]
    },
    {
     "data": {
      "text/plain": [
       "(array([  0.00000000e+00,   0.00000000e+00,   0.00000000e+00,\n",
       "          0.00000000e+00,   4.83628796e-06,   2.90177277e-05,\n",
       "          4.35265916e-05,   1.01562047e-04,   1.45088639e-04,\n",
       "          2.27305534e-04,   2.85340989e-04,   4.30429628e-04,\n",
       "          5.94863419e-04,   6.23881147e-04,   1.02529305e-03,\n",
       "          1.24776229e-03,   1.54761215e-03,   1.81844427e-03,\n",
       "          1.81844427e-03,   2.11345784e-03,   2.19567473e-03,\n",
       "          2.41814398e-03,   2.38428996e-03,   2.38912625e-03,\n",
       "          2.58741406e-03,   2.43265284e-03,   2.16182072e-03,\n",
       "          2.33592708e-03,   2.12313041e-03,   1.78942654e-03,\n",
       "          1.78942654e-03,   1.49924927e-03,   1.37350578e-03,\n",
       "          1.16554540e-03,   1.03012933e-03,   9.96275319e-04,\n",
       "          8.94713272e-04,   6.62571450e-04,   5.75518267e-04,\n",
       "          6.23881147e-04,   4.78792508e-04,   3.91739325e-04,\n",
       "          3.14358717e-04,   2.61159550e-04,   2.27305534e-04,\n",
       "          2.32141822e-04,   1.83778942e-04,   1.59597503e-04,\n",
       "          8.70531832e-05,   1.20907199e-04]),\n",
       " array([  315.84789769,   336.70638179,   357.56486588,   378.42334997,\n",
       "          399.28183406,   420.14031816,   440.99880225,   461.85728634,\n",
       "          482.71577043,   503.57425452,   524.43273862,   545.29122271,\n",
       "          566.1497068 ,   587.00819089,   607.86667499,   628.72515908,\n",
       "          649.58364317,   670.44212726,   691.30061135,   712.15909545,\n",
       "          733.01757954,   753.87606363,   774.73454772,   795.59303182,\n",
       "          816.45151591,   837.31      ,   858.16848409,   879.02696818,\n",
       "          899.88545228,   920.74393637,   941.60242046,   962.46090455,\n",
       "          983.31938865,  1004.17787274,  1025.03635683,  1045.89484092,\n",
       "         1066.75332501,  1087.61180911,  1108.4702932 ,  1129.32877729,\n",
       "         1150.18726138,  1171.04574548,  1191.90422957,  1212.76271366,\n",
       "         1233.62119775,  1254.47968184,  1275.33816594,  1296.19665003,\n",
       "         1317.05513412,  1337.91361821,  1358.77210231]),\n",
       " <a list of 50 Patch objects>)"
      ]
     },
     "execution_count": 18,
     "metadata": {},
     "output_type": "execute_result"
    },
    {
     "data": {
      "image/png": "[encoded data removed]",
      "text/plain": [
       "<matplotlib.figure.Figure at 0x8dc3ef0>"
      ]
     },
     "metadata": {},
     "output_type": "display_data"
    }
   ],
   "source": [
    "%pylab inline\n",
    "import numpy as np\n",
    "import matplotlib.pyplot as pit\n",
    "\n",
    "current_price = 837.31\n",
    "sigma_one_day = 0.2\n",
    "\n",
    "# for Monte Carlo, we generate random log returns, apply to the current price to find simulated future prices\n",
    "\n",
    "num_trials = 10000\n",
    "mean_daily_return = 0\n",
    "\n",
    "trials = np.random.normal(mean_daily_return, sigma_one_day, num_trials) \n",
    "np.std(trials) ## It should be around 0.2\n",
    "\n",
    "simulated_log_return = np.random.normal(mean_daily_return, sigma_one_day, num_trials) \n",
    "            # Putting names in here can be more understandable\n",
    "simulated_prices = [current_price * np.exp(ret) for ret in simulated_log_return] ## *:times\n",
    "np.std(simulated_prices) ## It should be around 160\n",
    "\n",
    "num_shars_AMZN = 100\n",
    "profit_and_loss = [num_shars_AMZN * (price - current_price) for price in simulated_prices]\n",
    "\n",
    "# VaR=value at risk\n",
    "var_quantile = 0.05\n",
    "#VaR = -np.percentile(profit_and_loss,1-var_quantile)\n",
    "VaR= -sorted(profit_and_loss)[int(var_quantile * num_trials)] # Get one number from 'sorted(profit_and_loss)'\n",
    "print('VaR = ' +str(VaR))\n",
    "\n",
    "## negative\n",
    "\n",
    "VaR_excessions = [loss for loss in profit_and_loss if loss< -VaR]\n",
    "ES = -np.mean(VaR_excessions)\n",
    "print('ES = ' +str(ES))\n",
    "\n",
    "\n",
    "num_bins= 50\n",
    "price_sigma = np.std(simulated_prices)\n",
    "plt.hist(simulated_prices, bins=num_bins, normed= True, align='left',rwidth=0.3, \n",
    "         range=(current_price-3*price_sigma, current_price+3*price_sigma))\n",
    "## It shows a picture.\n",
    "\n",
    "\n",
    "plt.hist(profit_and_loss, bins=num_bins, normed= True, align='left',rwidth=0.3, \n",
    "         range=(min(profit_and_loss), max(profit_and_loss)))\n",
    "\n"
   ]
  },
  {
   "cell_type": "code",
   "execution_count": null,
   "metadata": {
    "collapsed": true
   },
   "outputs": [],
   "source": []
  },
  {
   "cell_type": "code",
   "execution_count": null,
   "metadata": {
    "collapsed": true
   },
   "outputs": [],
   "source": []
  }
 ],
 "metadata": {
  "kernelspec": {
   "display_name": "Python 3",
   "language": "python",
   "name": "python3"
  },
  "language_info": {
   "codemirror_mode": {
    "name": "ipython",
    "version": 3
   },
   "file_extension": ".py",
   "mimetype": "text/x-python",
   "name": "python",
   "nbconvert_exporter": "python",
   "pygments_lexer": "ipython3",
   "version": "3.6.1"
  }
 },
 "nbformat": 4,
 "nbformat_minor": 2
}
