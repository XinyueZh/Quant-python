{
 "cells": [
  {
   "cell_type": "markdown",
   "metadata": {},
   "source": [
    "# Simulate Amazon stock prices\n",
    "Using historical data from Yahoo for 2014-10-01 to 2016-09-30, computed historical returns in a Google sheet and now we will do a Monte Carb simulation using the standard deviation of "
   ]
  },
  {
   "cell_type": "code",
   "execution_count": 15,
   "metadata": {},
   "outputs": [
    {
     "name": "stdout",
     "output_type": "stream",
     "text": [
      "Populating the interactive namespace from numpy and matplotlib\n"
     ]
    },
    {
     "data": {
      "text/plain": [
       "(array([  0.00000000e+00,   0.00000000e+00,   0.00000000e+00,\n",
       "          4.83468093e-06,   1.45040428e-05,   1.93387237e-05,\n",
       "          2.90080856e-05,   8.21895759e-05,   1.35371066e-04,\n",
       "          1.69213833e-04,   2.17560642e-04,   3.62601070e-04,\n",
       "          6.43012564e-04,   8.07391716e-04,   9.47597463e-04,\n",
       "          1.28119045e-03,   1.44556960e-03,   1.76949322e-03,\n",
       "          1.96288046e-03,   2.12725961e-03,   2.28196940e-03,\n",
       "          2.48019132e-03,   2.37866302e-03,   2.56238090e-03,\n",
       "          2.28680408e-03,   2.20461451e-03,   2.43667919e-03,\n",
       "          2.12242493e-03,   1.98221918e-03,   1.92903769e-03,\n",
       "          1.64379152e-03,   1.68246897e-03,   1.51808981e-03,\n",
       "          1.22800896e-03,   1.01528300e-03,   9.57266825e-04,\n",
       "          8.02557035e-04,   8.12226397e-04,   6.62351288e-04,\n",
       "          5.75327031e-04,   4.59294689e-04,   4.01278518e-04,\n",
       "          3.14254261e-04,   2.56238090e-04,   2.27230004e-04,\n",
       "          2.07891280e-04,   1.54709790e-04,   1.59544471e-04,\n",
       "          1.11197661e-04,   7.25202140e-05]),\n",
       " array([  315.88496686,   336.74196819,   357.59896951,   378.45597084,\n",
       "          399.31297216,   420.16997349,   441.02697481,   461.88397614,\n",
       "          482.74097747,   503.59797879,   524.45498012,   545.31198144,\n",
       "          566.16898277,   587.02598409,   607.88298542,   628.73998674,\n",
       "          649.59698807,   670.4539894 ,   691.31099072,   712.16799205,\n",
       "          733.02499337,   753.8819947 ,   774.73899602,   795.59599735,\n",
       "          816.45299867,   837.31      ,   858.16700133,   879.02400265,\n",
       "          899.88100398,   920.7380053 ,   941.59500663,   962.45200795,\n",
       "          983.30900928,  1004.1660106 ,  1025.02301193,  1045.88001326,\n",
       "         1066.73701458,  1087.59401591,  1108.45101723,  1129.30801856,\n",
       "         1150.16501988,  1171.02202121,  1191.87902253,  1212.73602386,\n",
       "         1233.59302519,  1254.45002651,  1275.30702784,  1296.16402916,\n",
       "         1317.02103049,  1337.87803181,  1358.73503314]),\n",
       " <a list of 50 Patch objects>)"
      ]
     },
     "execution_count": 15,
     "metadata": {},
     "output_type": "execute_result"
    },
    {
     "data": {
      "image/png": "[encoded data removed]",
      "text/plain": [
       "<matplotlib.figure.Figure at 0x7f54fd0>"
      ]
     },
     "metadata": {},
     "output_type": "display_data"
    }
   ],
   "source": [
    "%pylab inline\n",
    "import numpy as np\n",
    "import matplotlib.pyplot as pit\n",
    "\n",
    "current_price = 837.31\n",
    "sigma_one_day = 0.2\n",
    "\n",
    "# for Monte Carlo, we generate random log reunion, apply to the current price to find simulated future prices\n",
    "\n",
    "num_trials = 10000\n",
    "mean_daily_return = 0\n",
    "# trials = np.random.normal(mean_daily_return, sigma_one_day, num_trials) \n",
    "# np.std(trials)\n",
    "\n",
    "simulated_log_return = np.random.normal(mean_daily_return, sigma_one_day, num_trials) \n",
    "            # Putting names in here can be more understandable\n",
    "simulated_prices = [current_price * np.exp(ret) for ret in simulated_log_return] # *:times\n",
    "np.std(simulated_prices) #????\n",
    "\n",
    "num_bins= 50\n",
    "price_sigma = np.std(simulated_prices)\n",
    "plt.hist(simulated_prices, bins=num_bins, normed= True, align='left',rwidth=0.3, range=(current_price-3*price_sigma, current_price+3*price_sigma))\n",
    "\n",
    "# Why is this not normal?"
   ]
  },
  {
   "cell_type": "code",
   "execution_count": null,
   "metadata": {
    "collapsed": true
   },
   "outputs": [],
   "source": []
  },
  {
   "cell_type": "code",
   "execution_count": null,
   "metadata": {
    "collapsed": true
   },
   "outputs": [],
   "source": []
  }
 ],
 "metadata": {
  "kernelspec": {
   "display_name": "Python 3",
   "language": "python",
   "name": "python3"
  },
  "language_info": {
   "codemirror_mode": {
    "name": "ipython",
    "version": 3
   },
   "file_extension": ".py",
   "mimetype": "text/x-python",
   "name": "python",
   "nbconvert_exporter": "python",
   "pygments_lexer": "ipython3",
   "version": "3.6.1"
  }
 },
 "nbformat": 4,
 "nbformat_minor": 2
}
